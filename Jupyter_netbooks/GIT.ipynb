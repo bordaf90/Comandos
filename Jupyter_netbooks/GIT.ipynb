{
 "cells": [
  {
   "cell_type": "markdown",
   "metadata": {},
   "source": [
    "# Comandos de GIT"
   ]
  },
  {
   "cell_type": "markdown",
   "metadata": {},
   "source": [
    "### mkdir (nombre de la carpeta)\n",
    "\n",
    "mkdir significa \"make directory\" o \"crear carpeta\".\n",
    "\n",
    "directorio = carpeta\n"
   ]
  },
  {
   "cell_type": "markdown",
   "metadata": {},
   "source": [
    "### touch (nombre del archivo)\n",
    "\n",
    "Me permite crear un archivo"
   ]
  },
  {
   "cell_type": "markdown",
   "metadata": {},
   "source": [
    "### cat (nombre del archivo).\n",
    "\n",
    "Me permite visualizar el contenido del archivo.\n"
   ]
  },
  {
   "cell_type": "markdown",
   "metadata": {},
   "source": [
    "### rm (nombre del archivo)\n",
    "\n",
    "rm significa \"remove\" o \"eliminar\".\n",
    "\n",
    "Me permite eliminar un archivo."
   ]
  },
  {
   "cell_type": "markdown",
   "metadata": {},
   "source": [
    "### git log (nombre del archivo)\n",
    "\n",
    "Muestra la historia de commit de ese archivo."
   ]
  },
  {
   "cell_type": "markdown",
   "metadata": {},
   "source": [
    "### git show (nombre del archivo)\n",
    "\n",
    "Muestra con colores lo que fue cambiado"
   ]
  },
  {
   "cell_type": "markdown",
   "metadata": {},
   "source": [
    "### git diff (código de commit A) (código de commit B)\n",
    "\n",
    "Sirve para comparar 2 commit cualesquiera."
   ]
  },
  {
   "cell_type": "markdown",
   "metadata": {},
   "source": [
    "### pwd\n",
    "\n",
    "Significa \"print working directory\", o \"mostrar el directorio de trabajo\"\n",
    "\n",
    "Me indica en cuál carpeta o path estoy. Muestra su ruta.\n"
   ]
  },
  {
   "cell_type": "markdown",
   "metadata": {},
   "source": [
    "### cd\n",
    "\n",
    "cd significa \"change directory\" o \"cambio de directorio\". Me permite ir hacia un archivo.\n",
    "\n",
    "### cd .\n",
    "\n",
    "Indica que estoy en mi carpeta actual.\n",
    "\n",
    "### cd ..\n",
    "\n",
    "Me permite volver hacia el archivo anterior."
   ]
  },
  {
   "cell_type": "markdown",
   "metadata": {},
   "source": [
    "### ls\n",
    "\n",
    "Significa \"list\" o \"lista\".\n",
    "\n",
    "Nos permite ver los archivos de la ruta en la que nos encontraos. No muestra archivos ocultos.\n"
   ]
  },
  {
   "cell_type": "markdown",
   "metadata": {},
   "source": [
    "### ls -a\n",
    "\n",
    "Incluye los archivos ocultos.\n"
   ]
  },
  {
   "cell_type": "markdown",
   "metadata": {},
   "source": [
    "### ls -l\n",
    "\n",
    "Muestra los archivos en forma de lista."
   ]
  },
  {
   "cell_type": "markdown",
   "metadata": {},
   "source": [
    "### ls -la\n",
    "\n",
    "Muestra los archivos,incluyendo los ocultos, en forma de lista.\n",
    "\n"
   ]
  },
  {
   "cell_type": "markdown",
   "metadata": {},
   "source": [
    "### history\n",
    "\n",
    "Me muestra el historial de comandos que utilicé."
   ]
  },
  {
   "cell_type": "markdown",
   "metadata": {},
   "source": [
    "## Comenzando"
   ]
  },
  {
   "cell_type": "markdown",
   "metadata": {},
   "source": [
    "### 1) git init \n",
    "\n",
    "Cuando escribimos esa sentencia estamos creando en la memoria ram un \"stage area\" o haciendo un staging.\n"
   ]
  },
  {
   "cell_type": "markdown",
   "metadata": {},
   "source": [
    "### /.git/ --> \"Master\"\n",
    "\n",
    "Es el repositorio donde deberán pasarse los archivos ya creados en en el stage para que puedan ser vistos.\n",
    "Este repositorio se llama por default: \"Master\"\n"
   ]
  },
  {
   "cell_type": "markdown",
   "metadata": {},
   "source": [
    "El Archivo está dentro del Directorio o Carpeta:\n",
    "\n",
    "### 2) git add\n",
    "\n",
    "El archivo pasa del Directorio al Stage. Es decir, está en memoria ram pero todavia NO lo puedo ver.\n",
    "\n",
    "### 3) commit -m (mensaje)\n",
    "\n",
    "El archivo pasa del Stage al Repositorio. Es decir, pasa a estar en /.git/\n",
    "Ahora SI puede ser visto.\n",
    "\n",
    "\n",
    "\n",
    "\n",
    "\n",
    "\n",
    "\n",
    "\n"
   ]
  },
  {
   "cell_type": "markdown",
   "metadata": {},
   "source": [
    "### Branch\n",
    "\n",
    "Branch es una rama. Existen la Master, la Development (desarrollador o \"experimento\"), y la Hotfix, entre \n",
    "miles de otras que nosotros queramos.\n",
    "La Hotfix sirve para arreglar bugs de Master.\n",
    "\n",
    "\n"
   ]
  },
  {
   "cell_type": "markdown",
   "metadata": {},
   "source": [
    "### Merge \n",
    "\n",
    "Significa \"fusionar\" y es cuando unimos cualquier rama con la rama Master.\n",
    "Cuando fusionamos cualquier rama con la rama Master estamos haciendo un Merge.\n"
   ]
  },
  {
   "cell_type": "markdown",
   "metadata": {},
   "source": [
    "### Volver en el tiempo con Git"
   ]
  },
  {
   "cell_type": "markdown",
   "metadata": {},
   "source": [
    "### git reset (nro de commit) --hard\n",
    "\n",
    "Una vez que utilicé git log para ver la historia de los commit, utilizo git reset\n",
    "Si utilizo git reset --hard borro lo que está en stage.\n",
    "Si utilizo git reset --soft NO borro lo que está en stage.\n"
   ]
  },
  {
   "cell_type": "markdown",
   "metadata": {},
   "source": [
    "### git checkout (nro de commit)"
   ]
  },
  {
   "cell_type": "markdown",
   "metadata": {},
   "source": [
    "## Empezamos con el flujo de trabajo en equipo\n"
   ]
  },
  {
   "cell_type": "markdown",
   "metadata": {},
   "source": [
    "Cuando se crea un brach, éste se crea desde la última versión del master.\n",
    "\n",
    "Para crear un branch se debe escribir:\n",
    "\n",
    "### git branch (nombre de la rama)"
   ]
  },
  {
   "cell_type": "markdown",
   "metadata": {},
   "source": [
    "Para ir hacia esa rama, se utiiza:\n",
    "    \n",
    "### git checkout (nombre de la rama)"
   ]
  },
  {
   "cell_type": "markdown",
   "metadata": {},
   "source": [
    "## Mergear"
   ]
  },
  {
   "cell_type": "markdown",
   "metadata": {},
   "source": [
    "Supongamos que tengo dos ramas: master y rama1\n",
    "\n",
    "Si yo trabajé con rama1 hasta cierto punto, y quiero fusionar (mergear) esos cambios hacia mi rama master, debo:"
   ]
  },
  {
   "cell_type": "markdown",
   "metadata": {},
   "source": [
    "1) Ir con git checkout master hacia mi rama master.\n",
    "2) Una vez estando en master escribo \n",
    "\n",
    "### git merge rama1 -m \"texto\"\n",
    "\n",
    "esto se hace porque hay que recordar que el Merge es un tipo de commit.\n"
   ]
  },
  {
   "cell_type": "markdown",
   "metadata": {},
   "source": [
    "# Github\n"
   ]
  },
  {
   "cell_type": "markdown",
   "metadata": {},
   "source": [
    "### Crear un nuevo repositorio e importar el local\n",
    "\n",
    "1) Vamos a \"nuevo repositorio\", y luego creamos el readme. \n",
    "\n",
    "2) Vamos a Code, y de ahi a clonar http.\n",
    "\n",
    "3) Me aseguro, en la terminal, de estar en la carpeta local de mi repositorio (con pwd).\n",
    "\n",
    "4) Copio lo siguiente en terminal:\n",
    "\n",
    "### git remote add origin https://github.com/bordaf90/hyperblog.git \n",
    "\n",
    "\n"
   ]
  },
  {
   "cell_type": "markdown",
   "metadata": {},
   "source": [
    "Si ahora escribimos git remote nos aparece la palabra \"Origin\".\n",
    "\n",
    "Y si escribimos git remote -v nos aparece que tenemos un fetch (traer) y push (enviar)"
   ]
  },
  {
   "cell_type": "markdown",
   "metadata": {},
   "source": [
    "Ahora, para subir del local al remoto escribimos:\n",
    "    \n",
    "   ### git push origin master\n",
    "    \n",
    "Esto significa: llevar (push) hacia el link del origin (el http), la rama master."
   ]
  },
  {
   "cell_type": "markdown",
   "metadata": {},
   "source": [
    "En ocasiones, antes del push, debemos escribir:\n",
    "    \n",
    "   ### git push -f origin master\n",
    "   \n",
    "  o\n",
    "  \n",
    " ### git pull origin master\n",
    " \n",
    " Esto se hace la primera vez que hacemos un repositorio remoto nuevo.\n",
    " \n"
   ]
  },
  {
   "cell_type": "markdown",
   "metadata": {},
   "source": [
    "### Retomando. Si es un repositorio nuevo en Github:\n",
    "\n",
    "1) git remote add origin (link)\n",
    "\n",
    "2) git pull origin master\n",
    "\n",
    "3) git push origin master\n"
   ]
  },
  {
   "cell_type": "markdown",
   "metadata": {},
   "source": [
    "### De remoto a local:\n",
    "\n",
    "Supongamos que hice un cambio en alguna parte del código en Github.\n",
    "Para que eso pueda verse en el local, debo escribir:\n",
    "\n",
    "### git pull origin master\n"
   ]
  },
  {
   "cell_type": "markdown",
   "metadata": {},
   "source": [
    "# Llaves públicas y privadas (en entorno local)"
   ]
  },
  {
   "cell_type": "markdown",
   "metadata": {},
   "source": [
    "### ssh-keygen -t rsa -b 4096 -C \"abraham.borda.1990@gmail.com\"\n",
    "\n",
    "Esto sirve para crear una clave SSH. Lo de rsa -b 496 tiene que ver con el algoritmo de seguridad a usar.\n",
    "\n",
    "ssh-keygen - t (significa \"generar la clave ssh\"), rsa -b 496 (algoritmo), -C (mail)\n",
    "\n",
    "clave ssh + algoritmo + mail\n",
    "\n",
    "\n",
    "\n"
   ]
  },
  {
   "cell_type": "markdown",
   "metadata": {},
   "source": [
    "Luego de hacer esto en terminal, se va a preguntar si le agregamos un passphrase, \n",
    "que es una contraseña de texto pero con espacio. Si no queremos agregar nada, apretamos enter y seguimos.\n",
    "\n",
    "\n"
   ]
  },
  {
   "cell_type": "markdown",
   "metadata": {},
   "source": [
    "### eval \"$(ssh-agent -s)\" \n",
    "\n",
    "Evalúo si todo está bien. Esto es SOLO para MAC."
   ]
  },
  {
   "cell_type": "markdown",
   "metadata": {},
   "source": [
    "### ssh-add -K ~/.ssh/id_rsa\n",
    "\n",
    "Con esto agrego la llave privada."
   ]
  },
  {
   "cell_type": "markdown",
   "metadata": {},
   "source": [
    "## Repasando:\n",
    "\n",
    "1) Creo las llaves SSH: ssh-keygen\n",
    "\n",
    "2) Evalúo si fue creada: eval\n",
    "\n",
    "3) La agrego solamente a mi llave privada: ssh-add\n",
    "\n"
   ]
  },
  {
   "cell_type": "markdown",
   "metadata": {},
   "source": [
    "# Conectar la llave pública con GITHUB"
   ]
  },
  {
   "cell_type": "markdown",
   "metadata": {},
   "source": [
    "Primero voy a ir a ver mi llave pública:\n",
    "\n",
    "1) cd ~/.ssh/  \n",
    "\n",
    "2) ls -al\n",
    "\n",
    "3) cat id_rsa.pub\n",
    "\n"
   ]
  },
  {
   "cell_type": "markdown",
   "metadata": {},
   "source": [
    "### Ahora voy a mi perfil de Github:\n",
    "\n",
    "1) Profile\n",
    "\n",
    "2) Settings\n",
    "\n",
    "3) Add SSH\n",
    "\n",
    "4) Copiar la llave pública y darle un título\n",
    "\n",
    "\n"
   ]
  },
  {
   "cell_type": "markdown",
   "metadata": {},
   "source": [
    "## Conecto con el local:\n",
    "\n",
    "1) Voy a mi perfil, y de ahi al proyecto que tengo creado.\n",
    "\n",
    "2) Copio en clone el SSH\n",
    "\n",
    "3) Voy a mi local, y de ahi a la carpeta de mi proyecto.\n",
    "\n",
    "4) git remote -v  \n",
    "\n",
    "5) git remote set-url origin git@github.com:bordaf90/hyperblog.git\n",
    "\n",
    "El punto 5 indica que se cambia la url (set-url) del repositorio llamado \"origin\".\n",
    "\n",
    "Si escribo git remote -v de nuevo voy a ver que el git remote -v del punto 4 me arrojaba un http,\n",
    "y el nuevo ya no.\n",
    "\n",
    "\n",
    "\n"
   ]
  },
  {
   "cell_type": "markdown",
   "metadata": {},
   "source": [
    "# Generar un cambio en local y llevarlo a Github:\n",
    "\n"
   ]
  },
  {
   "cell_type": "markdown",
   "metadata": {},
   "source": [
    "1) git pull origin master\n",
    "\n",
    "2) git status (Opcional. Es si quiero ver los cambios que hice).\n",
    "\n",
    "3) git diff (Opcional. Es para ver cuáles cambios hice).\n",
    "\n",
    "4) git add .\n",
    "\n",
    "5) git commit -m \"lo que sea\"\n",
    "\n",
    "6) git pull origin master\n",
    "\n",
    "7) git push origin master\n",
    "\n",
    "\n",
    "Del 1 al 6, se abre y se cierra el ciclo pull. En el 7 arranca el push.\n",
    "Hacer el pull del 6 es una buena práctica porque de esa forma traigo los últimos cambios\n",
    "actualizados."
   ]
  },
  {
   "cell_type": "markdown",
   "metadata": {},
   "source": [
    "## Crear distintas ramas en local y llevarlas a Github\n"
   ]
  },
  {
   "cell_type": "markdown",
   "metadata": {},
   "source": [
    "1) git branch (para ver las ramas)\n",
    "\n",
    "2) git pull origin master (para traer lo actualizado de origin al master)\n",
    "\n",
    "3) git checkout color (para cambiar a la rama 'color')\n",
    "\n",
    "4) git push origin color (para enviar a Github la rama 'color')\n",
    "\n",
    " ### Creando ramas nuevas ---------------->\n",
    "\n",
    "5) git checkout master (vuelvo al master)\n",
    "\n",
    "6) git branch header (creo la rama 'header)\n",
    "\n",
    "7) git branch footer (creo la rama 'footer')\n",
    "\n",
    "8) git push origin header (envío a origin mi rama 'header')\n",
    "\n",
    "9) git push origin footer\n",
    "\n",
    "\n",
    "\n"
   ]
  },
  {
   "cell_type": "markdown",
   "metadata": {},
   "source": [
    "## Trabajando con otros"
   ]
  },
  {
   "cell_type": "markdown",
   "metadata": {},
   "source": [
    "1) El usuario A baja el código desde Github a su Local con http o SSH.\n",
    "\n",
    "2) Hace un git pull origin master (para traer la acualización)\n",
    "\n",
    "3) El Usuario pricipal invita al Usuario A con su Github, en setting a través de su nombre de usuario.\n",
    "\n",
    "4) El Usuario A (ya tiene su repositorio local), ahora puede hacer git push origin master \n",
    "\n"
   ]
  },
  {
   "cell_type": "markdown",
   "metadata": {},
   "source": [
    "# Pull Request (P.R)"
   ]
  },
  {
   "cell_type": "markdown",
   "metadata": {},
   "source": [
    "Es tarea del lider del proyecto/DevOps"
   ]
  }
 ],
 "metadata": {
  "kernelspec": {
   "display_name": "Python 3",
   "language": "python",
   "name": "python3"
  },
  "language_info": {
   "codemirror_mode": {
    "name": "ipython",
    "version": 3
   },
   "file_extension": ".py",
   "mimetype": "text/x-python",
   "name": "python",
   "nbconvert_exporter": "python",
   "pygments_lexer": "ipython3",
   "version": "3.7.3"
  }
 },
 "nbformat": 4,
 "nbformat_minor": 2
}
